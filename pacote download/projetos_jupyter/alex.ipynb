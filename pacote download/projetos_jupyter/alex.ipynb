{
 "cells": [
  {
   "cell_type": "code",
   "execution_count": 6,
   "id": "a2552a5e",
   "metadata": {},
   "outputs": [
    {
     "name": "stdout",
     "output_type": "stream",
     "text": [
      "['=-=-=-=-=-=-=açougue:=-=-=-=-=-=-=', 'loja 2:', '1° dezena:  0.09 % de crescimento', '2° dezena:  0.03 % de crescimento', '3° dezena:  0.05 % de crescimento', 'Total:  0.06 % de crescimento', '=-=-=-=-=-=-=frios:=-=-=-=-=-=-=', 'loja 2:', '1° dezena:  -0.11 % de crescimento', '2° dezena:  -0.06 % de crescimento', '3° dezena:  -0.21 % de crescimento', 'Total:  -0.13 % de crescimento', '=-=-=-=-=-=-=auto serviço:=-=-=-=-=-=-=', 'loja 2:', '1° dezena:  -0.05 % de crescimento', '2° dezena:  0.1 % de crescimento', '3° dezena:  0.09 % de crescimento', 'Total:  0.05 % de crescimento', '=-=-=-=-=-=-=mercearia:=-=-=-=-=-=-=', 'loja 2:', '1° dezena:  -0.12 % de crescimento', '2° dezena:  -0.02 % de crescimento', '3° dezena:  -0.14 % de crescimento', 'Total:  -0.1 % de crescimento']\n"
     ]
    }
   ],
   "source": [
    "from openpyxl import load_workbook\n",
    "from openpyxl.utils import get_column_letter\n",
    "\n",
    "def lecao(letras = ['m']):\n",
    "    wb = load_workbook('C:/Users/pdv/Desktop/plan.xlsx')\n",
    "    setores = [wb['açougue'],wb['frios'],wb['auto'],wb['mercearia']]\n",
    "    resultado = []\n",
    "    for ws in setores:\n",
    "        setor = ws['s1'].value\n",
    "        resultado.append(f'=-=-=-=-=-=-={setor}=-=-=-=-=-=-=')\n",
    "        for i in letras:\n",
    "            resultado.append(f'{(ws[f\"{i}2\"].value)}')\n",
    "            resultado.append(f\"1° dezena:  {round(float(ws[f'{i}7'].value), 2)} % de crescimento\")\n",
    "            resultado.append(f\"2° dezena:  {round(float(ws[f'{i}13'].value),2)} % de crescimento\")\n",
    "            resultado.append(f\"3° dezena:  {round(float(ws[f'{i}19'].value),2)} % de crescimento\")\n",
    "            resultado.append(f\"Total:  {round(float(ws[f'{i}25'].value),2)} % de crescimento\")\n",
    "    return resultado\n",
    "\n",
    "\n",
    "def will(letras = ['l','m','n','o','p','q','r']):\n",
    "    wb = load_workbook('C:/Users/pdv/Desktop/plan.xlsx')\n",
    "    setores = [wb['açougue'],wb['frios'],wb['auto'],wb['mercearia']]\n",
    "    resultado = []\n",
    "    for ws in setores:\n",
    "        setor = ws['s1'].value\n",
    "        resultado.append(f'=-=-=-=-=-=-={setor}=-=-=-=-=-=-=')\n",
    "        for i in letras:\n",
    "            resultado.append(f'{(ws[f\"{i}36\"].value)}')\n",
    "            resultado.append(f\"1° dezena:  {round(float(ws[f'{i}41'].value), 2)} % de crescimento\")\n",
    "            resultado.append(f\"2° dezena:  {round(float(ws[f'{i}47'].value),2)} % de crescimento\")\n",
    "            resultado.append(f\"3° dezena:  {round(float(ws[f'{i}53'].value),2)} % de crescimento\")\n",
    "            resultado.append(f\"Total:  {round(float(ws[f'{i}59'].value),2)} % de crescimento\")\n",
    "    return resultado\n",
    "\n",
    "\n",
    "if __name__ == '__main__':\n",
    "    print(lecao())\n",
    "#     print(lecao(letras = ['l','m','n','o','p','q','r']))\n",
    "#     print(will())"
   ]
  },
  {
   "cell_type": "code",
   "execution_count": 3,
   "id": "400fd9da",
   "metadata": {},
   "outputs": [],
   "source": [
    "from pdf2image import convert_from_path\n",
    "def pdf(mercado,rang):\n",
    "    for i in range(rang):\n",
    "        images = convert_from_path(f'C:/Users/pdv/Desktop/selenium-imgs/{mercado}/{mercado}{i}.pdf',\n",
    "                                   poppler_path=r'C:\\Program Files (x86)\\poppler-21.11.0\\Library\\bin',\n",
    "                                  output_folder=f'C:/Users/pdv/Desktop/selenium-imgs/{mercado}/feito',\n",
    "                                  fmt='PNG')\n",
    "        for i in range(len(images)):   \n",
    "            images[i].save('page'+ str(i) +'.png', 'PNG')\n",
    "            \n",
    "pdf('dalbem',3)"
   ]
  },
  {
   "cell_type": "code",
   "execution_count": null,
   "id": "bad48ab4",
   "metadata": {},
   "outputs": [],
   "source": [
    "from openpyxl import load_workbook\n",
    "from openpyxl.utils import get_column_letter\n",
    "\n"
   ]
  }
 ],
 "metadata": {
  "kernelspec": {
   "display_name": "Python (bot)",
   "language": "python",
   "name": "bot"
  },
  "language_info": {
   "codemirror_mode": {
    "name": "ipython",
    "version": 3
   },
   "file_extension": ".py",
   "mimetype": "text/x-python",
   "name": "python",
   "nbconvert_exporter": "python",
   "pygments_lexer": "ipython3",
   "version": "3.9.7"
  }
 },
 "nbformat": 4,
 "nbformat_minor": 5
}
