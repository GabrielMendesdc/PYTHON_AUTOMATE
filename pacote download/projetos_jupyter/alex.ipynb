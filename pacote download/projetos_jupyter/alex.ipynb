{
 "cells": [
  {
   "cell_type": "code",
   "execution_count": 1,
   "id": "a2552a5e",
   "metadata": {},
   "outputs": [
    {
     "name": "stdout",
     "output_type": "stream",
     "text": [
      "['l', 'm', 'n', 'o', 'p', 'q', 'r']\n",
      "['l', 'm', 'n', 'o', 'p', 'q', 'r']\n",
      "['l', 'm', 'n', 'o', 'p', 'q', 'r']\n",
      "['l', 'm', 'n', 'o', 'p', 'q', 'r']\n",
      "[['açougue:'], ['loja 1:', '1° dezena:  0.13 % de crescimento', '2° dezena:  0.13 % de crescimento', '3° dezena:  -0.43 % de crescimento'], ['loja 2:', '1° dezena:  0.09 % de crescimento', '2° dezena:  0.03 % de crescimento', '3° dezena:  -0.37 % de crescimento'], ['loja 3:', '1° dezena:  -0.06 % de crescimento', '2° dezena:  -0.0 % de crescimento', '3° dezena:  -0.42 % de crescimento'], ['loja 4:', '1° dezena:  -0.07 % de crescimento', '2° dezena:  -0.01 % de crescimento', '3° dezena:  -0.5 % de crescimento'], ['loja 5:', '1° dezena:  0.03 % de crescimento', '2° dezena:  0.04 % de crescimento', '3° dezena:  -0.42 % de crescimento'], ['loja 6:', '1° dezena:  0.09 % de crescimento', '2° dezena:  0.08 % de crescimento', '3° dezena:  -0.43 % de crescimento'], ['loja 7:', '1° dezena:  -0.11 % de crescimento', '2° dezena:  -0.19 % de crescimento', '3° dezena:  -0.6 % de crescimento'], ['frios:'], ['loja 1:', '1° dezena:  -0.21 % de crescimento', '2° dezena:  -0.08 % de crescimento', '3° dezena:  -0.53 % de crescimento'], ['loja 2:', '1° dezena:  -0.11 % de crescimento', '2° dezena:  -0.06 % de crescimento', '3° dezena:  -0.53 % de crescimento'], ['loja 3:', '1° dezena:  -0.21 % de crescimento', '2° dezena:  0.0 % de crescimento', '3° dezena:  -0.58 % de crescimento'], ['loja 4:', '1° dezena:  -0.19 % de crescimento', '2° dezena:  -0.11 % de crescimento', '3° dezena:  -0.61 % de crescimento'], ['loja 5:', '1° dezena:  -0.14 % de crescimento', '2° dezena:  -0.13 % de crescimento', '3° dezena:  -0.61 % de crescimento'], ['loja 6:', '1° dezena:  -0.09 % de crescimento', '2° dezena:  -0.14 % de crescimento', '3° dezena:  -0.69 % de crescimento'], ['loja 7:', '1° dezena:  -0.07 % de crescimento', '2° dezena:  0.05 % de crescimento', '3° dezena:  -0.6 % de crescimento'], ['auto serviço:'], ['loja 1:', '1° dezena:  -0.18 % de crescimento', '2° dezena:  -0.02 % de crescimento', '3° dezena:  -0.45 % de crescimento'], ['loja 2:', '1° dezena:  -0.05 % de crescimento', '2° dezena:  0.1 % de crescimento', '3° dezena:  -0.32 % de crescimento'], ['loja 3:', '1° dezena:  -0.16 % de crescimento', '2° dezena:  0.06 % de crescimento', '3° dezena:  -0.42 % de crescimento'], ['loja 4:', '1° dezena:  -0.14 % de crescimento', '2° dezena:  -0.03 % de crescimento', '3° dezena:  -0.45 % de crescimento'], ['loja 5:', '1° dezena:  -0.03 % de crescimento', '2° dezena:  0.03 % de crescimento', '3° dezena:  -0.36 % de crescimento'], ['loja 6:', '1° dezena:  -0.01 % de crescimento', '2° dezena:  0.03 % de crescimento', '3° dezena:  -0.49 % de crescimento'], ['loja 7:', '1° dezena:  -0.1 % de crescimento', '2° dezena:  0.13 % de crescimento', '3° dezena:  -0.42 % de crescimento'], ['mercearia:'], ['loja 1:', '1° dezena:  -0.25 % de crescimento', '2° dezena:  -0.12 % de crescimento', '3° dezena:  -0.53 % de crescimento'], ['loja 2:', '1° dezena:  -0.12 % de crescimento', '2° dezena:  -0.02 % de crescimento', '3° dezena:  -0.49 % de crescimento'], ['loja 3:', '1° dezena:  -0.21 % de crescimento', '2° dezena:  -0.04 % de crescimento', '3° dezena:  -0.51 % de crescimento'], ['loja 4:', '1° dezena:  -0.23 % de crescimento', '2° dezena:  -0.13 % de crescimento', '3° dezena:  -0.58 % de crescimento'], ['loja 5:', '1° dezena:  -0.11 % de crescimento', '2° dezena:  -0.14 % de crescimento', '3° dezena:  -0.55 % de crescimento'], ['loja 6:', '1° dezena:  -0.14 % de crescimento', '2° dezena:  -0.13 % de crescimento', '3° dezena:  -0.61 % de crescimento'], ['loja 7:', '1° dezena:  -0.06 % de crescimento', '2° dezena:  -0.08 % de crescimento', '3° dezena:  -0.63 % de crescimento']]\n"
     ]
    }
   ],
   "source": [
    "from openpyxl import load_workbook\n",
    "from openpyxl.utils import get_column_letter\n",
    "\n",
    "def lecao():\n",
    "    wb = load_workbook('C:/Users/pdv/Desktop/plan.xlsx')\n",
    "    setores = [wb['açougue'],wb['frios'],wb['auto'],wb['mercearia']]\n",
    "    resultado = []\n",
    "    letras = ['m'] #coluna do excel\n",
    "    for ws in setores:\n",
    "        setor = ws['s1'].value\n",
    "        resultado.append(f'=-=-=-=-=-=-={setor}=-=-=-=-=-=-=')\n",
    "        print(letras)\n",
    "        for i in letras:\n",
    "            resultado.append(f'{(ws[f\"{i}2\"].value)}')\n",
    "            resultado.append(f\"1° dezena:  {round(float(ws[f'{i}7'].value), 2)} % de crescimento\")\n",
    "            resultado.append(f\"2° dezena:  {round(float(ws[f'{i}13'].value),2)} % de crescimento\")\n",
    "            resultado.append(f\"3° dezena:  {round(float(ws[f'{i}19'].value),2)} % de crescimento\")\n",
    "    return resultado\n",
    "\n",
    "\n",
    "if __name__ == '__main__':\n",
    "    print(lecao())"
   ]
  },
  {
   "cell_type": "code",
   "execution_count": null,
   "id": "400fd9da",
   "metadata": {},
   "outputs": [],
   "source": []
  }
 ],
 "metadata": {
  "kernelspec": {
   "display_name": "Python (bot)",
   "language": "python",
   "name": "bot"
  },
  "language_info": {
   "codemirror_mode": {
    "name": "ipython",
    "version": 3
   },
   "file_extension": ".py",
   "mimetype": "text/x-python",
   "name": "python",
   "nbconvert_exporter": "python",
   "pygments_lexer": "ipython3",
   "version": "3.9.7"
  }
 },
 "nbformat": 4,
 "nbformat_minor": 5
}
