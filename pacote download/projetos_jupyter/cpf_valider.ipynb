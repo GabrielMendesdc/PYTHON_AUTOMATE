def checkcpf(cpf):
    soma,soma1=0,0
    if len(cpf) != 11:
        print('error')
    for i in range(0,9):
        soma += int(cpf[i])*(10-i)
    d1 = 11-(soma%11)
    if d1 >9:
        d1=0
    for i in range(0,10):
        soma1 += int(cpf[i])*(11-i)
    d2 = 11-(soma1%11)
    if d2>9:
        d2=0
    if d2 == int(cpf[10]) and d1 == int(cpf[9]):
        print('válido')
        
checkcpf('37181250809')
