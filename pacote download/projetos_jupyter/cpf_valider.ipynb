{
 "cells": [
  {
   "cell_type": "code",
   "execution_count": 1,
   "id": "37740853",
   "metadata": {},
   "outputs": [
    {
     "name": "stdout",
     "output_type": "stream",
     "text": [
      "30\n",
      "93\n",
      "101\n",
      "157\n",
      "163\n",
      "173\n",
      "193\n",
      "193\n",
      "209\n",
      "válido\n"
     ]
    }
   ],
   "source": [
    "def checkcpf(cpf):\n",
    "    soma,soma1=0,0\n",
    "    if len(cpf) != 11:\n",
    "        print('error')\n",
    "    for i in range(0,9):\n",
    "        soma += int(cpf[i])*(10-i)\n",
    "    d1 = 11-(soma%11)\n",
    "    if d1 >9:\n",
    "        d1=0\n",
    "    for i in range(0,10):\n",
    "        soma1 += int(cpf[i])*(11-i)\n",
    "    d2 = 11-(soma1%11)\n",
    "    if d2>9:\n",
    "        d2=0\n",
    "    if d2 == int(cpf[10]) and d1 == int(cpf[9]):\n",
    "        print('válido')\n",
    "        \n",
    "checkcpf('37181250809')"
   ]
  },
  {
   "cell_type": "code",
   "execution_count": null,
   "id": "a56572e3",
   "metadata": {},
   "outputs": [],
   "source": []
  },
  {
   "cell_type": "code",
   "execution_count": null,
   "id": "27a9417f",
   "metadata": {},
   "outputs": [],
   "source": []
  }
 ],
 "metadata": {
  "kernelspec": {
   "display_name": "Python 3",
   "language": "python",
   "name": "python3"
  },
  "language_info": {
   "codemirror_mode": {
    "name": "ipython",
    "version": 3
   },
   "file_extension": ".py",
   "mimetype": "text/x-python",
   "name": "python",
   "nbconvert_exporter": "python",
   "pygments_lexer": "ipython3",
   "version": "3.8.8"
  }
 },
 "nbformat": 4,
 "nbformat_minor": 5
}
