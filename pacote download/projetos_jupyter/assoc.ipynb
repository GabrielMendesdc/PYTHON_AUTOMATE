{
 "cells": [
  {
   "cell_type": "code",
   "execution_count": 1,
   "id": "dc771467",
   "metadata": {},
   "outputs": [
    {
     "name": "stdout",
     "output_type": "stream",
     "text": [
      "13.143.802/0001-00\n",
      "20.023.288/0001-27\n"
     ]
    }
   ],
   "source": [
    "def pontua(cnpj):\n",
    "    if type(cnpj) == type(int()):\n",
    "        cnpj = str(cnpj)\n",
    "        print(f'{cnpj[:2]}.{cnpj[2:5]}.{cnpj[5:8]}/{cnpj[8:12]}-{cnpj[12:]}')\n",
    "    else:\n",
    "        pontua(int(cnpj[-42:-28]))\n",
    "    \n",
    "pontua(13143802000100)\n",
    "pontua('N:\\XML ENTRADA\\LJ002\\2022-04\\MARA35220420023288000127550010013392761503921382.xml')"
   ]
  },
  {
   "cell_type": "code",
   "execution_count": 25,
   "id": "216be377",
   "metadata": {},
   "outputs": [
    {
     "name": "stdout",
     "output_type": "stream",
     "text": [
      "N:\\XML ENTRADA\\LJ003\\2022-04\\MARA35220405342843000190550010000073411446274190.xml\n",
      "05.342.843/0001-90\n"
     ]
    }
   ],
   "source": [
    "import pyautogui as pag\n",
    "from time import sleep\n",
    "import pyperclip as pc\n",
    "import keyboard as kb\n",
    "import cv2\n",
    "\n",
    "def pontua(cnpj):\n",
    "    if type(cnpj) == type(int()):\n",
    "        cnpj = str(cnpj)\n",
    "    else:\n",
    "        cnpj = cnpj[-42:-28]\n",
    "    retorno = f'{cnpj[:2]}.{cnpj[2:5]}.{cnpj[5:8]}/{cnpj[8:12]}-{cnpj[12:]}'\n",
    "    return retorno\n",
    "\n",
    "        \n",
    "def dv(ean):\n",
    "    ean = str(ean)\n",
    "    sum1,sum3,soma,eanNovo = 0,0,0,''\n",
    "    if len(ean) % 2 == 0:\n",
    "        for i in range(len(ean)):\n",
    "            if i % 2 == 0:\n",
    "                sum1 += int(ean[i])\n",
    "            else:\n",
    "                sum3 += (int(ean[i]) * 3)\n",
    "    else:\n",
    "        for i in range(len(ean)):\n",
    "            if i % 2 != 0:\n",
    "                sum1 += int(ean[i])\n",
    "            else:\n",
    "                sum3 += (int(ean[i]) * 3)\n",
    "    eanAux = ean[0:13]\n",
    "    dig = (((sum1+sum3) // 10)*10+10) - (sum1+sum3)\n",
    "    if dig == 10:\n",
    "        dig = 0\n",
    "    eanNovo = eanAux + str(dig)\n",
    "    return eanNovo\n",
    "\n",
    "\n",
    "def checa(ean):\n",
    "    ean = str(ean)\n",
    "    if len(ean) == 14:\n",
    "        ean = ean[1:13]\n",
    "        eanNovo = dv(ean)\n",
    "    elif len(ean) == 13:\n",
    "        return ean\n",
    "    else:\n",
    "        eanNovo = dv(ean)\n",
    "    return eanNovo\n",
    "\n",
    "\n",
    "def checanfe():\n",
    "    def pega():\n",
    "        regiao = (441, 295, 115, 651)\n",
    "        for i in range(10):\n",
    "            erro1 = pag.locateOnScreen('png_wait/nfe1.png',\n",
    "                                             grayscale=True, region=regiao)\n",
    "            erro2 = pag.locateOnScreen('png_wait/nfe2.png',\n",
    "                                            grayscale=True, region=regiao)\n",
    "            if erro1 or erro2:\n",
    "                return 'erro'\n",
    "        \n",
    "    erro = pega()\n",
    "    if erro == 'erro':\n",
    "        return 'erro'\n",
    "    return 'ok'\n",
    "\n",
    "\n",
    "def checaloja():\n",
    "    regiao = (450, 250, 50, 50)\n",
    "    im = pag.screenshot('screen.png',region=regiao)\n",
    "    for i in range(100):\n",
    "        loja = pag.locateOnScreen('png_wait/loja.png',\n",
    "                                             grayscale=True, region=regiao, confidence=0.98)\n",
    "        if loja:\n",
    "            return 'erro'\n",
    "    return 'ok'\n",
    "        \n",
    "        \n",
    "def cola(p):\n",
    "    kb.press('ctrl')\n",
    "    sleep(0.2)\n",
    "    kb.press(p)\n",
    "    sleep(0.2)\n",
    "    kb.release('ctrl')\n",
    "    kb.release(p)   \n",
    "    \n",
    "    \n",
    "y = 328        \n",
    "def primeiro():\n",
    "    global y\n",
    "    pag.click(568,201)\n",
    "    sleep(1)\n",
    "    pag.click(657,y)\n",
    "    y += 20\n",
    "    cola('c')\n",
    "    pag.click(883,200)\n",
    "    ean = pc.paste()\n",
    "    novo = checa(ean)\n",
    "    pc.copy(novo)\n",
    "    cola('v')\n",
    "    kb.press_and_release('enter')\n",
    "    sleep(1)\n",
    "    pag.click(1449,213) # Clica no joia\n",
    "\n",
    "    \n",
    "    \n",
    "def associa(arquivo):\n",
    "    global y\n",
    "    pag.hotkey('ctrl','shift','capslock')\n",
    "    sleep(1)\n",
    "    cnpj = pontua(str(arquivo))\n",
    "    print(cnpj)\n",
    "    pc.copy(cnpj)\n",
    "    pag.click(816,239) #Lupa\n",
    "    sleep(1)\n",
    "    cola('v')\n",
    "    kb.press_and_release('enter')\n",
    "    sleep(1)\n",
    "    pag.click(1241,717, clicks=2)\n",
    "    sleep(1)\n",
    "    pag.click(657,275)\n",
    "    sleep(1)\n",
    "    pag.click(550,245)\n",
    "    sleep(1)\n",
    "    pag.click(1361,450)\n",
    "    sleep(5)\n",
    "    pc.copy(arquivo)\n",
    "    cola('v')\n",
    "    kb.press_and_release('enter')\n",
    "    sleep(4)\n",
    "    pag.click(1415,454)\n",
    "    sleep(4)\n",
    "    kb.press_and_release('enter')\n",
    "    sleep(2)\n",
    "    pag.click(1387,276) #codigos a acertar\n",
    "    sleep(1)\n",
    "    ok = checanfe()\n",
    "    while ok != 'ok':\n",
    "        if y > 700:\n",
    "            break\n",
    "        primeiro()\n",
    "        ok = checanfe()\n",
    "\n",
    "nf = input()   \n",
    "associa(nf)\n",
    "pag.hotkey('ctrl','shift','capslock')\n",
    "\n",
    "\n"
   ]
  },
  {
   "cell_type": "code",
   "execution_count": 15,
   "id": "f78f8da0",
   "metadata": {},
   "outputs": [
    {
     "name": "stdout",
     "output_type": "stream",
     "text": [
      "Point(x=664, y=340)\n"
     ]
    }
   ],
   "source": [
    "import pyautogui as pag\n",
    "from time import sleep\n",
    "\n",
    "\n",
    "pag.hotkey('ctrl','shift','capslock')\n",
    "sleep(3)\n",
    "print(pag.position())\n",
    "pag.hotkey('ctrl','shift','capslock')\n"
   ]
  },
  {
   "cell_type": "code",
   "execution_count": 10,
   "id": "c5aa00d5",
   "metadata": {},
   "outputs": [
    {
     "name": "stdout",
     "output_type": "stream",
     "text": [
      "(430, 225, 63, 64)\n"
     ]
    }
   ],
   "source": [
    "x = (430,225)\n",
    "y = (493,289)\n",
    "d = y[0]-x[0],y[1]-x[1]\n",
    "print(f'{x[0],x[1],d[0],d[1]}')\n"
   ]
  },
  {
   "cell_type": "code",
   "execution_count": null,
   "id": "18afe1c2",
   "metadata": {},
   "outputs": [],
   "source": [
    "cancelar pag.click(564,198)\n",
    "editar pag.click(537,199)\n",
    "gravar pag.click(625,204)"
   ]
  }
 ],
 "metadata": {
  "kernelspec": {
   "display_name": "oliver",
   "language": "python",
   "name": "oliver"
  },
  "language_info": {
   "codemirror_mode": {
    "name": "ipython",
    "version": 3
   },
   "file_extension": ".py",
   "mimetype": "text/x-python",
   "name": "python",
   "nbconvert_exporter": "python",
   "pygments_lexer": "ipython3",
   "version": "3.9.7"
  }
 },
 "nbformat": 4,
 "nbformat_minor": 5
}
