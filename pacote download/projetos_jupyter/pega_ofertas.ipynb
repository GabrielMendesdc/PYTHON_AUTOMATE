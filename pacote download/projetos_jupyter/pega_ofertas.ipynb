{
 "cells": [
  {
   "cell_type": "code",
   "execution_count": 5,
   "id": "b57b0161",
   "metadata": {},
   "outputs": [],
   "source": [
    "from selenium.webdriver import Chrome, ChromeOptions\n",
    "from selenium.webdriver.chrome.options import Options\n",
    "from selenium.webdriver.chrome.service import Service\n",
    "from selenium.webdriver.common.by import By\n",
    "from pdf2image import convert_from_path\n",
    "from time import sleep\n",
    "import requests\n",
    "import shutil\n",
    "import os\n",
    "lista = [\"https://www.supermercadosdalben.com.br/ofertas.html\",\n",
    "         'https://goodbom.com.br/tabloides/index.php/goodbom-taquaral/',\n",
    "        \"https://www.hortifrutifartura.com.br/wp-content/themes/fartura/images/banner-oferta.png\",\n",
    "        'https://obahortifruti.com.br/ofertas-oba/ofertas.php?regiao=sp',\n",
    "        'https://www.superpaguemenos.com.br/tabloide-digital/s',]\n",
    "\n",
    "\n",
    "def purgedir(parent):\n",
    "    for root, dirs, files in os.walk(parent):                                      \n",
    "        for item in files:\n",
    "            filespec = os.path.join(root, item)\n",
    "            os.unlink(filespec)\n",
    "            \n",
    "            \n",
    "def inita():\n",
    "    s=Service(r'C:/Users/pdv/chromedriver.exe')\n",
    "    browser = Chrome(service=s)\n",
    "    browser.get('https://www.supermercadosdalben.com.br/ofertas.html')\n",
    "    sleep(300)\n",
    "    \n",
    "    \n",
    "if __name__ == '__main__':\n",
    "    inita()"
   ]
  },
  {
   "cell_type": "code",
   "execution_count": null,
   "id": "48d9465b",
   "metadata": {},
   "outputs": [],
   "source": [
    "from pdf2image import convert_from_path\n",
    "\n",
    "def pdf(mercado,rang):\n",
    "    outfolder = f'C:/Users/pdv/Desktop/selenium-imgs/{mercado}/feito/'\n",
    "    for i in range(rang):\n",
    "        images = convert_from_path(f'C:/Users/pdv/Desktop/selenium-imgs/{mercado}/{mercado}{i}.pdf',\n",
    "                                   poppler_path=r'C:\\Program Files (x86)\\poppler-21.11.0\\Library\\bin',\n",
    "                                  output_folder=outfolder,output_file = 'ofertas',\n",
    "                                  fmt='PNG')\n",
    "            \n",
    "            \n",
    "pdf('pgmenos',1)\n",
    "pdf('dalbem',1)"
   ]
  }
 ],
 "metadata": {
  "kernelspec": {
   "display_name": "cientista",
   "language": "python",
   "name": "cientista"
  },
  "language_info": {
   "codemirror_mode": {
    "name": "ipython",
    "version": 3
   },
   "file_extension": ".py",
   "mimetype": "text/x-python",
   "name": "python",
   "nbconvert_exporter": "python",
   "pygments_lexer": "ipython3",
   "version": "3.10.0"
  }
 },
 "nbformat": 4,
 "nbformat_minor": 5
}
