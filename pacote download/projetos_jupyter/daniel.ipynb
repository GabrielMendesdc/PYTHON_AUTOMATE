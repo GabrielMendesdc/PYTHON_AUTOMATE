{
 "cells": [
  {
   "cell_type": "code",
   "execution_count": 5,
   "id": "96d5bd79",
   "metadata": {},
   "outputs": [
    {
     "name": "stdout",
     "output_type": "stream",
     "text": [
      "loja  1  tem apenas 56  notas corretas\n",
      "loja  2  tem apenas 3  notas corretas\n",
      "loja  3  tem apenas 2  notas corretas\n",
      "loja  4  tem apenas 21  notas corretas\n",
      "loja  5  tem apenas 2  notas corretas\n",
      "loja  6  tem apenas 9  notas corretas\n",
      "loja  7  tem apenas 3  notas corretas\n"
     ]
    }
   ],
   "source": [
    "from pathlib import Path\n",
    "import os\n",
    "\n",
    "def notas(pastanf):  \n",
    "    for diretorio, subpastas, arquivos in os.walk(pastanf):\n",
    "        for arquivo in arquivos:\n",
    "            yield arquivo\n",
    "            \n",
    "\n",
    "lojas = [1,2,3,4,5,6,7]\n",
    "for loja in lojas:\n",
    "    pastanf = Path(f\"N:/XML ENTRADA/LJ00{loja}/2022-01/Cadastro OK\")\n",
    "    pastanf2 = Path(f\"N:/XML ENTRADA/LJ00{loja}/2022-01/Cadastro OK/Entrada Ok\")\n",
    "    pastanf3 = Path(f\"N:/XML ENTRADA/LJ00{loja}/2022-01/Financeiro\")\n",
    "\n",
    "    lista_cad = []\n",
    "    lista_entrada = []\n",
    "    lista_financeiro = []\n",
    "    lista_nova = []\n",
    "    lista_nova1 = []\n",
    "    novo = []\n",
    "\n",
    "\n",
    "    for nf in notas(pastanf):\n",
    "        lista_cad.append(nf)\n",
    "\n",
    "    for nf in notas(pastanf2):\n",
    "        lista_entrada.append(nf)\n",
    "\n",
    "    for nf in notas(pastanf3):\n",
    "        lista_financeiro.append(nf)\n",
    "\n",
    "\n",
    "    for i in set(lista_cad):\n",
    "        if i in set(lista_entrada):\n",
    "            lista_nova.append(i)\n",
    "        if i in lista_financeiro:    \n",
    "            lista_nova1.append(i)\n",
    "\n",
    "    for i in set(lista_cad):\n",
    "            if i in lista_nova or i in lista_nova1:\n",
    "                pass\n",
    "            else:\n",
    "                novo.append(i)\n",
    "\n",
    "    print('loja ',loja,' tem apenas',len(novo),' notas corretas')\n",
    "    for i in set(lista_cad):\n",
    "        if i not in novo:\n",
    "            try:\n",
    "                ####os.remove(f'{pastanf}\\\\{i}')   #####\n",
    "            except FileNotFoundError:\n",
    "                pass"
   ]
  },
  {
   "cell_type": "code",
   "execution_count": 26,
   "id": "22e16880",
   "metadata": {},
   "outputs": [
    {
     "name": "stdout",
     "output_type": "stream",
     "text": [
      "64\n"
     ]
    }
   ],
   "source": [
    "print(642-578)"
   ]
  },
  {
   "cell_type": "code",
   "execution_count": null,
   "id": "d2ddddc2",
   "metadata": {},
   "outputs": [],
   "source": [
    "# os.remove(f'{pastanf}\\\\{i}')\n"
   ]
  }
 ],
 "metadata": {
  "kernelspec": {
   "display_name": "Python (bot)",
   "language": "python",
   "name": "bot"
  },
  "language_info": {
   "codemirror_mode": {
    "name": "ipython",
    "version": 3
   },
   "file_extension": ".py",
   "mimetype": "text/x-python",
   "name": "python",
   "nbconvert_exporter": "python",
   "pygments_lexer": "ipython3",
   "version": "3.9.7"
  }
 },
 "nbformat": 4,
 "nbformat_minor": 5
}
