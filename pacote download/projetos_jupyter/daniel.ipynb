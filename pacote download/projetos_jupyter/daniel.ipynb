{
 "cells": [
  {
   "cell_type": "code",
   "execution_count": 39,
   "id": "96d5bd79",
   "metadata": {
    "code_folding": []
   },
   "outputs": [
    {
     "name": "stdout",
     "output_type": "stream",
     "text": [
      "loja 4 35220183044016005435550010005089371393965358.xml\n"
     ]
    }
   ],
   "source": [
    "from pathlib import Path\n",
    "import os\n",
    "\n",
    "def notas(pastanf):  \n",
    "    for diretorio, subpastas, arquivos in os.walk(pastanf):\n",
    "        return arquivos\n",
    "            \n",
    "            \n",
    "cnpjs = ['05349537000185','07246178000166','08158815000105','32265622000138','05349537000266',\n",
    "        '23017342000209','23017342000110']\n",
    "\n",
    "lojas = [1,2,3,4,5,6,7]\n",
    "\n",
    "for x in range(len(lojas)):\n",
    "    pastanf = Path(f\"N:/XML ENTRADA/LJ00{lojas[x]}/2022-01/Cadastro OK\")\n",
    "    pastanf1 = Path(f\"N:/XML ENTRADA/destinadas/{cnpjs[x]}/2022-01/\")\n",
    "    pastanf2 = Path(f\"N:/XML ENTRADA/LJ00{lojas[x]}/2022-01/Cadastro OK/Entrada Ok\")\n",
    "    pastanf3 = Path(f\"N:/XML ENTRADA/LJ00{lojas[x]}/2022-01/Financeiro\")\n",
    "    pastanf4 = Path(f\"N:/XML ENTRADA/LJ00{lojas[x]}/2022-01/Cadastro OK/Pendencia\")\n",
    "\n",
    "    lista_cadok = []\n",
    "    lista_entradaok = []\n",
    "    lista_financeiro = []\n",
    "    lista_pendencia = []\n",
    "    lista_removercad = []\n",
    "    novo = []\n",
    "\n",
    "    lista_cadok = notas(pastanf)\n",
    "                    \n",
    "    destinadas = notas(pastanf1)\n",
    "\n",
    "    lista_entradaok = notas(pastanf2)\n",
    "\n",
    "    lista_financeiro = notas(pastanf3)\n",
    "\n",
    "    lista_pendencia = notas(pastanf4)\n",
    "        \n",
    "\n",
    "    for i in lista_cadok:\n",
    "        for j in lista_entradaok:\n",
    "            if i in j:\n",
    "                lista_removercad.append(i)\n",
    "\n",
    "    for i in lista_cadok:\n",
    "        for j in lista_financeiro:\n",
    "            if i in j:\n",
    "                lista_removercad.append(i)\n",
    "                \n",
    "                \n",
    "    for i in lista_cadok:\n",
    "        for j in lista_pendencia:\n",
    "            if i in j:\n",
    "                lista_removercad.append(i)\n",
    "\n",
    "                \n",
    "    for i in lista_cadok:\n",
    "        for j in lista_removercad:\n",
    "            if i in j:\n",
    "                novo.append(i)\n",
    "                \n",
    "                \n",
    "    for j in novo:\n",
    "        print(f'loja {lojas[x]}',j)\n",
    "        #os.remove(f'{pastanf}\\\\{j}')   #####            "
   ]
  },
  {
   "cell_type": "code",
   "execution_count": 26,
   "id": "22e16880",
   "metadata": {},
   "outputs": [
    {
     "name": "stdout",
     "output_type": "stream",
     "text": [
      "64\n"
     ]
    }
   ],
   "source": [
    "print(642-578)"
   ]
  },
  {
   "cell_type": "code",
   "execution_count": null,
   "id": "f04b31b7",
   "metadata": {},
   "outputs": [],
   "source": []
  }
 ],
 "metadata": {
  "kernelspec": {
   "display_name": "Python (bot)",
   "language": "python",
   "name": "bot"
  },
  "language_info": {
   "codemirror_mode": {
    "name": "ipython",
    "version": 3
   },
   "file_extension": ".py",
   "mimetype": "text/x-python",
   "name": "python",
   "nbconvert_exporter": "python",
   "pygments_lexer": "ipython3",
   "version": "3.9.7"
  }
 },
 "nbformat": 4,
 "nbformat_minor": 5
}
