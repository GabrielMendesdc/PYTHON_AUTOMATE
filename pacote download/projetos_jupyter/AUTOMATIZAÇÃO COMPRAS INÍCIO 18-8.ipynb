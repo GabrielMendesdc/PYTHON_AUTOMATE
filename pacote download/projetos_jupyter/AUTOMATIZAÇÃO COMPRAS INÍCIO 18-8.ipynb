{
 "cells": [
  {
   "cell_type": "code",
   "execution_count": 1,
   "id": "26f2ed68",
   "metadata": {},
   "outputs": [
    {
     "data": {
      "text/html": [
       "<style>.container { width:90% !important; }</style>"
      ],
      "text/plain": [
       "<IPython.core.display.HTML object>"
      ]
     },
     "metadata": {},
     "output_type": "display_data"
    }
   ],
   "source": [
    "from IPython.core.display import display, HTML\n",
    "display(HTML(\"<style>.container { width:90% !important; }</style>\"))"
   ]
  },
  {
   "cell_type": "code",
   "execution_count": 3,
   "id": "03f79c3d",
   "metadata": {
    "code_folding": []
   },
   "outputs": [
    {
     "name": "stdout",
     "output_type": "stream",
     "text": [
      "================= deseja abrir as pastas? ==================\n",
      "========================= 1 - sim ==========================\n",
      "========================== 2- não ==========================\n",
      "2\n"
     ]
    }
   ],
   "source": [
    "import pyautogui as pag\n",
    "import time\n",
    "from datetime import date\n",
    "import keyboard as kb\n",
    "import win32api,win32con\n",
    "import pyperclip\n",
    "\n",
    "pag.PAUSE = 0.8\n",
    "time.sleep(5)\n",
    "\n",
    "def wait(onde):  #espera achar o png na tela pra prosseguir com o código\n",
    "    path = f'png_wait/{str(onde)}'+'.png'\n",
    "    x = pag.locateCenterOnScreen(path)\n",
    "    while not x:\n",
    "        x = pag.locateCenterOnScreen(path)\n",
    "    return x   \n",
    "\n",
    "\n",
    "def isNum():\n",
    "    return win32api.GetKeyState(win32con.VK_NUMLOCK)\n",
    "\n",
    "\n",
    "def f5(tec,copy = False,let = ''):\n",
    "    pag.press('f5')\n",
    "    kb.write(tec)\n",
    "    pag.press('enter')\n",
    "    if copy:\n",
    "        copi(let)\n",
    "        \n",
    "        \n",
    "def seta(d = 'down'):\n",
    "    pag.PAUSE = 0.4\n",
    "    if isNum() == 0:\n",
    "        pag.press(d)\n",
    "        pag.press('numlock')\n",
    "    else:                                  \n",
    "        pag.press('numlock')\n",
    "        pag.press(d)\n",
    "        pag.press('numlock')\n",
    "    pag.PAUSE = 0.85\n",
    "    \n",
    "    \n",
    "def fecha():\n",
    "    pag.moveTo(169,1064,0.5)\n",
    "    pag.moveTo(161,1069,0.5)\n",
    "    pag.click(294,1023)\n",
    "    pag.click(964,590)\n",
    "    pag.click(1885,55,clicks = 2,interval = 1)\n",
    "    \n",
    "    \n",
    "def tira():\n",
    "    pag.PAUSE = 0.2\n",
    "    pag.moveTo(49,150,0.5)\n",
    "    pag.mouseDown(button='left')\n",
    "    pag.moveTo(49,250,0.5)\n",
    "    pag.mouseUp(button='left')\n",
    "    pag.PAUSE = 0.8\n",
    "\n",
    "    \n",
    "def colaCompra(m):\n",
    "    l = [0,904,992,962,1027]\n",
    "    y = l[m]\n",
    "    f5(f'm{m+4}:s{m+4}',True,'c')\n",
    "    pag.hotkey('ctrl','shift','capslock')\n",
    "    pag.click(1912,1064)\n",
    "    pag.moveTo(169,1064,0.5)\n",
    "    pag.moveTo(161,1069,0.5)\n",
    "    pag.moveTo(169,1064,0.5)\n",
    "    pag.click(169,y)\n",
    "    time.sleep(1)\n",
    "    f5('c37',True,'v')        \n",
    "    time.sleep(1)\n",
    "    if m ==1:\n",
    "        fecha()\n",
    "    pag.hotkey('ctrl','shift','capslock')\n",
    "    \n",
    "    \n",
    "def loga(lj=0):\n",
    "    pag.click(1912,1064)\n",
    "    pag.click(626,289, clicks = 2)\n",
    "    wait('compras')\n",
    "    if lj==0:\n",
    "        pag.write(\"gabriel\")\n",
    "    else:\n",
    "        pag.write(f\"gabriel{lj}\")\n",
    "    pag.press(\"enter\")\n",
    "    pag.write(\"8842\")\n",
    "    pag.press(\"enter\")\n",
    "    wait('conf')\n",
    "    if lj == 0:\n",
    "        pag.click(281,77)  #relatorios\n",
    "    elif lj ==5:\n",
    "        pag.click(241,77)  #rel lj5\n",
    "        pag.moveTo(281,77)\n",
    "    else:\n",
    "        pag.click(207,77)  #relatorios lj != primavera    \n",
    "  #oi\n",
    "\n",
    "def abreGui():\n",
    "    li = ['AÇOUGUE','AUTO SERVIÇO','FRIOS','MERCEARIA']\n",
    "    print(f'{\" deseja abrir as pastas? \":=^60}')\n",
    "    print(f'{\" 1 - sim \":=^60}')\n",
    "    print(f'{\" 2- não \":=^60}')        \n",
    "    ps = input()\n",
    "    if ps == '1':\n",
    "        pag.hotkey('ctrl','shift','capslock')\n",
    "        pag.click(1912,1064)\n",
    "        for i in range(0,4):\n",
    "            pag.click(24,1059)\n",
    "            time.sleep(0.5)\n",
    "            txt = f\"c:\\\\agnaldo\\\\venda {li[i]}.xlsx\"\n",
    "            pyperclip.copy(txt)\n",
    "            copi('v')\n",
    "            pag.press('enter')\n",
    "    else:\n",
    "        pag.hotkey('ctrl','shift','capslock')\n",
    "  #   \n",
    "    \n",
    "def winup():\n",
    "    kb.press_and_release('win+up')    \n",
    "    \n",
    "    \n",
    "def abreplan(m = 0):  #abre plan limpa\n",
    "    if m == 2:\n",
    "        pag.click(1918,1056,clicks=2)\n",
    "        pag.click(1560,948,clicks=2)\n",
    "        time.sleep(10)\n",
    "        winup()\n",
    "        time.sleep(1)\n",
    "    pag.click(57,200)  #clica celula 0,0\n",
    "    time.sleep(1)\n",
    "    f5('a:k')\n",
    "    pag.press('del')\n",
    "    pag.click(57,200)\n",
    "    copi('v')  \n",
    "    pag.click(57,200) \n",
    "    \n",
    "    \n",
    "def copi(p):\n",
    "    kb.press('ctrl')\n",
    "    time.sleep(0.2)\n",
    "    kb.press(p)\n",
    "    time.sleep(0.2)\n",
    "    kb.release('ctrl')\n",
    "    kb.release(p)\n",
    "    \n",
    "    \n",
    "def compra(mes,lj = 0):\n",
    "    global anos\n",
    "    if lj != 2:\n",
    "        time.sleep(2)\n",
    "        pag.hotkey('ctrl','shift','capslock')\n",
    "        time.sleep(2)\n",
    "        fecha()\n",
    "        time.sleep(2)\n",
    "    loga(lj)  \n",
    "    pag.click(257,995)  \n",
    "    seta()\n",
    "    seta()\n",
    "    pag.click(1496,127)\n",
    "    pag.write(str(anos))\n",
    "    pag.press(\"enter\")\n",
    "    pag.write(str(mes))\n",
    "    pag.click(1871,124)\n",
    "    time.sleep(8)\n",
    "    tira()\n",
    "    tira()\n",
    "    pag.click(340,57)\n",
    "    time.sleep(7)\n",
    "    f5('a:g',True,'c')\n",
    "    pag.hotkey('ctrl','shift','capslock')\n",
    "    abreplan(lj)\n",
    "    pag.PAUSE = 0.2\n",
    "    lit = ['n','-','m','o','p','q','r','s']\n",
    "    f5(f'{lit[lj]}5')\n",
    "    for i in range(0,4):\n",
    "        pag.write(f'=SOMASE(A:A;\"00{i+2}*\";G:G)*-1')\n",
    "        pag.press('f9')\n",
    "        pag.press('enter')\n",
    "    pag.PAUSE = 0.8\n",
    "    \n",
    "ano = date.today()\n",
    "anos = ano.year\n",
    "dia = ano.day\n",
    "dias = [1,2,3,4,5,6,7,8]\n",
    "if dia in dias:\n",
    "    mes = input(f'mes {ano.month} ou mes {int(ano.month)-1} digite em número ex: 5')\n",
    "else: mes = ano.month\n",
    "abreGui()\n",
    "compra(mes,2)\n",
    "compra(mes)\n",
    "compra(mes,3)\n",
    "compra(mes,4)\n",
    "compra(mes,5)\n",
    "compra(mes,6)\n",
    "compra(mes,7)\n",
    "colaCompra(1)\n",
    "colaCompra(2)\n",
    "colaCompra(3)\n",
    "colaCompra(4)\n"
   ]
  },
  {
   "cell_type": "code",
   "execution_count": 8,
   "id": "add2c74e",
   "metadata": {},
   "outputs": [],
   "source": [
    "pag.PAUSE = 1\n",
    "pag.hotkey('ctrl','shift','capslock')\n",
    "pag.click(257,995)  \n",
    "pag.click(1496,127)"
   ]
  },
  {
   "cell_type": "code",
   "execution_count": 3,
   "id": "6162b765",
   "metadata": {},
   "outputs": [
    {
     "name": "stdout",
     "output_type": "stream",
     "text": [
      "2022\n"
     ]
    }
   ],
   "source": [
    "print(date.today().year)"
   ]
  },
  {
   "cell_type": "code",
   "execution_count": null,
   "id": "78900905",
   "metadata": {},
   "outputs": [],
   "source": []
  }
 ],
 "metadata": {
  "kernelspec": {
   "display_name": "Python 3 (ipykernel)",
   "language": "python",
   "name": "python3"
  },
  "language_info": {
   "codemirror_mode": {
    "name": "ipython",
    "version": 3
   },
   "file_extension": ".py",
   "mimetype": "text/x-python",
   "name": "python",
   "nbconvert_exporter": "python",
   "pygments_lexer": "ipython3",
   "version": "3.8.12"
  },
  "varInspector": {
   "cols": {
    "lenName": 16,
    "lenType": 16,
    "lenVar": 40
   },
   "kernels_config": {
    "python": {
     "delete_cmd_postfix": "",
     "delete_cmd_prefix": "del ",
     "library": "var_list.py",
     "varRefreshCmd": "print(var_dic_list())"
    },
    "r": {
     "delete_cmd_postfix": ") ",
     "delete_cmd_prefix": "rm(",
     "library": "var_list.r",
     "varRefreshCmd": "cat(var_dic_list()) "
    }
   },
   "types_to_exclude": [
    "module",
    "function",
    "builtin_function_or_method",
    "instance",
    "_Feature"
   ],
   "window_display": false
  }
 },
 "nbformat": 4,
 "nbformat_minor": 5
}
