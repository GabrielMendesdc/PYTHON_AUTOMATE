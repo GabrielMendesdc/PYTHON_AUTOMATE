{
 "cells": [
  {
   "cell_type": "code",
   "execution_count": 4,
   "id": "bfd685d3",
   "metadata": {},
   "outputs": [],
   "source": [
    "from tkinter import *\n",
    "from random import randint\n",
    "import time\n",
    "\n",
    "\n",
    "start = time.time()\n",
    "print('start: ',start)\n",
    "root = Tk()\n",
    "myCanvas = Canvas(root)\n",
    "root.geometry(\"1920x1080\")\n",
    "root.config(bg='black')\n",
    "root.attributes('-fullscreen', True)\n",
    "i = 0\n",
    "root.resizable(False, False)\n",
    "myCanvas.configure(bg='black')\n",
    "myCanvas.pack(fill='both', expand=True)\n",
    "labpoints = Label(myCanvas, text='pontos: ',font=('arial',25),fg='white',bg='black',bd=0)\n",
    "exit_button = Button(root, width=2, height=2, text=\"Exit\", highlightbackground='#000000', command=root.destroy,\n",
    "                     bd = 0,bg='black', fg='white',font=('arial',20))\n",
    "exit_button.pack(side='bottom')\n",
    "\n",
    "def func(*args):\n",
    "    global i\n",
    "    global circle\n",
    "    i += 1\n",
    "    myCanvas.delete(circle)\n",
    "    circle = create_circle(myCanvas)\n",
    "    end = time.time() - start\n",
    "    print('end: ',end)\n",
    "    if labpoints:\n",
    "        labpoints.config(text=f\"PONTOS: {i} TEMPO: {end:.2f} segundos\")\n",
    "    root.update_idletasks()\n",
    "\n",
    "\n",
    "def create_circle(canvasname):  # center coordinates, radius\n",
    "    x = randint(25, 1900)\n",
    "    y = randint(25, 1000)\n",
    "    r = randint(15, 30)\n",
    "    x0 = x - r\n",
    "    y0 = y - r\n",
    "    x1 = x + r\n",
    "    y1 = y + r\n",
    "    return canvasname.create_oval(x0, y0, x1, y1, fill='white', outline='black', tag='circle')\n",
    "\n",
    "\n",
    "circle = create_circle(myCanvas)\n",
    "myCanvas.tag_bind('circle', \"<Button-1>\", func)\n",
    "labpoints.pack()\n",
    "myCanvas.mainloop()\n"
   ]
  },
  {
   "cell_type": "code",
   "execution_count": null,
   "id": "0c1c9712",
   "metadata": {},
   "outputs": [],
   "source": []
  }
 ],
 "metadata": {
  "kernelspec": {
   "display_name": "Python 3",
   "language": "python",
   "name": "python3"
  },
  "language_info": {
   "codemirror_mode": {
    "name": "ipython",
    "version": 3
   },
   "file_extension": ".py",
   "mimetype": "text/x-python",
   "name": "python",
   "nbconvert_exporter": "python",
   "pygments_lexer": "ipython3",
   "version": "3.8.8"
  }
 },
 "nbformat": 4,
 "nbformat_minor": 5
}
