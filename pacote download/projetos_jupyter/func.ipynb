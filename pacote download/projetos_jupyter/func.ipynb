{
 "cells": [
  {
   "cell_type": "code",
   "execution_count": 1,
   "id": "08a6b33b",
   "metadata": {},
   "outputs": [
    {
     "name": "stdout",
     "output_type": "stream",
     "text": [
      "validador de cpf:\n",
      "1-validar\n",
      "2-fazer\n",
      "3-gerar3\n",
      "41399574256\n",
      "sair? [S/N]s\n",
      "41399574256\n"
     ]
    }
   ],
   "source": [
    "import random\n",
    "e = input('validador de cpf:\\n1-validar\\n2-fazer\\n3-gerar')\n",
    "conto1,conto2,res1,res2,cpf = 0,0,0,0,''\n",
    "if e == '1':\n",
    "    cpf = input('digite o cpf só números: ')\n",
    "    sequencia = cpf == cpf[0]*11\n",
    "    while not sequencia:\n",
    "        if len(cpf) > 11 or not cpf.isdigit():\n",
    "            cpf = input('digite um cpf válido: ')\n",
    "        else:\n",
    "            for i,n in enumerate(range(10,1,-1)):\n",
    "                conto1 += int(cpf[i]) * n\n",
    "            res1 = 11-(conto1%11)\n",
    "            if res1 > 9:\n",
    "                res1 = 0\n",
    "            if not cpf[-2] == str(res1):\n",
    "                print('cpf inválido')\n",
    "            for i,n in enumerate(range(11,1,-1)):\n",
    "                conto2 += int(cpf[i]) * n\n",
    "            res2 = 11-(conto2%11)\n",
    "            if res2 > 9:\n",
    "                res2 = 0\n",
    "            if not cpf[-1] == str(res2):\n",
    "                print('cpf inválido')\n",
    "    else:\n",
    "        print('sequência não pode!')\n",
    "if e == '2':\n",
    "    cpf = input('digite o cpf só números: ')\n",
    "    if len(cpf) > 9 or not cpf.isdigit():\n",
    "        cpf = input('digite um cpf válido: ')\n",
    "    else:\n",
    "        for i,n in enumerate(range(10,1,-1)):\n",
    "            conto1 += int(cpf[i]) * n\n",
    "        res1 = 11-(conto1%11)\n",
    "        if res1 > 9:\n",
    "            res1 = 0\n",
    "        cpf = cpf + str(res1)\n",
    "        for i,n in enumerate(range(11,1,-1)):\n",
    "            conto2 += int(cpf[i]) * n\n",
    "        res2 = 11-(conto2%11)\n",
    "        if res2 > 9:\n",
    "            res2 = 0\n",
    "        cpf = cpf + str(res2)\n",
    "if e == '3':\n",
    "    s = 'n'\n",
    "    while s == 'n':\n",
    "        cpf = str(random.randint(100000000,999999999) )\n",
    "        for i,n in enumerate(range(10,1,-1)):\n",
    "            conto1 += int(cpf[i]) * n\n",
    "        res1 = 11-(conto1%11)\n",
    "        if res1 > 9:\n",
    "            res1 = 0\n",
    "        cpf += str(res1)\n",
    "        for i,n in enumerate(range(11,1,-1)):\n",
    "            conto2 += int(cpf[i]) * n\n",
    "        res2 = 11-(conto2%11)\n",
    "        if res2 > 9:\n",
    "            res2 = 0\n",
    "        cpf += str(res2) \n",
    "        print(cpf)\n",
    "        s = input('sair? [S/N]')\n",
    "print(cpf)"
   ]
  },
  {
   "cell_type": "code",
   "execution_count": null,
   "id": "04d0f274",
   "metadata": {},
   "outputs": [],
   "source": []
  }
 ],
 "metadata": {
  "kernelspec": {
   "display_name": "Python 3",
   "language": "python",
   "name": "python3"
  },
  "language_info": {
   "codemirror_mode": {
    "name": "ipython",
    "version": 3
   },
   "file_extension": ".py",
   "mimetype": "text/x-python",
   "name": "python",
   "nbconvert_exporter": "python",
   "pygments_lexer": "ipython3",
   "version": "3.8.8"
  }
 },
 "nbformat": 4,
 "nbformat_minor": 5
}
