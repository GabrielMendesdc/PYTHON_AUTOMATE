{
 "cells": [
  {
   "cell_type": "code",
   "execution_count": null,
   "id": "b14f7e9a",
   "metadata": {},
   "outputs": [],
   "source": [
    "import pyautogui as pag\n",
    "import keyboard as kb\n",
    "foi = False\n",
    "deu = False\n",
    "pag.PAUSE = 1\n",
    "while True:\n",
    "    if kb.is_pressed('enter'):\n",
    "        foi = True\n",
    "        if foi:\n",
    "            time.sleep(3)\n",
    "            pag.click(703,365)\n",
    "            foi = False\n",
    "    if kb.is_pressed('space'):\n",
    "        deu = True\n",
    "        if deu:\n",
    "            pag.click(729,228)\n",
    "            kb.press('enter')\n",
    "            time.sleep(0.5)\n",
    "            kb.send('alt+l')\n",
    "            time.sleep(0.5)\n",
    "            kb.write('/nf')\n",
    "            deu = False\n",
    "    if kb.is_pressed('='):\n",
    "        sim = True\n",
    "        if sim:\n",
    "            kb.send('alt+e')\n",
    "            time.sleep(2)\n",
    "            pag.click(693,360)\n",
    "            time.sleep(1.5)\n",
    "            kb.write('99')\n",
    "            kb.send('alt+g')\n",
    "            time.sleep(2)\n",
    "            kb.send('alt+l')\n",
    "            time.sleep(0.5)\n",
    "            kb.write('/nf')\n",
    "            kb.send('alt+f4')\n",
    "            time.sleep(0.5)\n",
    "            kb.send('alt+l')\n",
    "            time.sleep(0.5)\n",
    "            kb.write('/nf')\n",
    "            sim = False"
   ]
  }
 ],
 "metadata": {
  "kernelspec": {
   "display_name": "oliver",
   "language": "python",
   "name": "oliver"
  },
  "language_info": {
   "codemirror_mode": {
    "name": "ipython",
    "version": 3
   },
   "file_extension": ".py",
   "mimetype": "text/x-python",
   "name": "python",
   "nbconvert_exporter": "python",
   "pygments_lexer": "ipython3",
   "version": "3.9.7"
  }
 },
 "nbformat": 4,
 "nbformat_minor": 5
}
