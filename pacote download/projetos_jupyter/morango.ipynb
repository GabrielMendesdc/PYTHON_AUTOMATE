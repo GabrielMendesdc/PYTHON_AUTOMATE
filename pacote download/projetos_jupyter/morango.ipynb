{
 "cells": [
  {
   "cell_type": "code",
   "execution_count": 40,
   "id": "0546e046",
   "metadata": {
    "code_folding": []
   },
   "outputs": [
    {
     "name": "stdout",
     "output_type": "stream",
     "text": [
      "JAN\n",
      "JAN\n",
      "JAN\n",
      "JAN\n",
      "JAN\n",
      "JAN\n"
     ]
    }
   ],
   "source": [
    "from tkinter import *\n",
    "from tkinter import ttk\n",
    "from PIL.ImageTk import PhotoImage\n",
    "from PIL import Image\n",
    "import os\n",
    "from datetime import date\n",
    "import time\n",
    "\n",
    "root = Tk()\n",
    "root.config(bg = 'aquamarine2')\n",
    "root.title('XML CONTADOR')\n",
    "w = Canvas(root, width=300, height=450, bg = 'aquamarine2')\n",
    "texts = ['CAD','XML','PEND']\n",
    "xs = [85,175,260]\n",
    "true = False\n",
    "\n",
    "class Rectangle():\n",
    "    def __init__(self, coords, color, texto):\n",
    "        self.coords = coords\n",
    "        self.color = color\n",
    "        self.texto = texto\n",
    "        self.text = StringVar(w,lista[int(mes)-1])\n",
    "        self.tag = w.create_rectangle(*self.coords, fill=self.color)\n",
    "        x,y = self.coords[:2]\n",
    "        self.t = w.create_text(x+20,y+20, text = self.texto.get() ,font=('Helvetica 16 bold'))       \n",
    "    def bind(self,*args):\n",
    "        w.tag_bind(self.tag,'<ButtonPress-1>',self.troca)\n",
    "        w.tag_bind(self.t,'<ButtonPress-1>',self.troca)\n",
    "    def troca(self,*args):\n",
    "        global mes,m,true\n",
    "        print(m.get())\n",
    "        if true:\n",
    "            w.itemconfig(self.t, text = lista[int(mes)-1])\n",
    "            true = False\n",
    "        else:\n",
    "            w.itemconfig(self.t, text = lista[int(mes)])\n",
    "            true = True\n",
    "\n",
    "            \n",
    "for i in range(1,8):\n",
    "    w.create_text(25, 60*i, text=f\"Loja {i}\", fill=\"black\", font=('Helvetica 12 bold'))\n",
    "\n",
    "for i in range(3):\n",
    "    w.create_text(xs[i], 14, text=texts[i], fill=\"black\", font=('Helvetica 16 bold'))\n",
    "    \n",
    "def search(pasta):\n",
    "    for diretorio, subpastas, arquivos in os.walk(pasta):\n",
    "        return len(arquivos)\n",
    "\n",
    "    \n",
    "def caminho(i,lj,mes):\n",
    "    if i == 0 or i % 3 == 0:\n",
    "        return fr'N:\\XML ENTRADA\\LJ00{lj}\\2022-{mes}\\\\'\n",
    "    if i == 1 or (i-1) % 3 == 0:\n",
    "        return fr'N:\\XML ENTRADA\\LJ00{lj}\\2022-{mes}\\Cadastro OK\\\\'\n",
    "    if i == 2 or (i-2) % 3 == 0:\n",
    "        return fr'N:\\XML ENTRADA\\LJ00{lj}\\2022-{mes}\\Cadastro OK\\Pendencia\\\\'\n",
    "\n",
    "        \n",
    "cords = [(60, 40, 110, 80),(147, 40, 197, 80),(234, 40, 284, 80),(60, 100, 110, 140),(147, 100, 197, 140),\n",
    "        (234, 100, 284, 140),(60, 160, 110, 200),(147, 160, 197, 200),(234, 160, 284, 200),(60, 220, 110, 260),\n",
    "        (147, 220, 197, 260),(234, 220, 284, 260),(60, 280, 110, 320),(147, 280, 197, 320),(234, 280, 284, 320),\n",
    "        (60, 340, 110, 380),(147, 340, 197, 380),(234, 340, 284, 380),(60, 400, 110, 440),(147, 400, 197, 440),\n",
    "        (234, 400, 284, 440),]    \n",
    "\n",
    "\n",
    "def cria(mes):\n",
    "    lj = 1\n",
    "    for i in range(21):\n",
    "        if i % 3 == 0 and i > 0:\n",
    "            lj += 1\n",
    "        s = StringVar(root, search(caminho(i,lj,mes)))\n",
    "        rect = Rectangle(cords[i],'red',s)\n",
    "\n",
    "\n",
    "mes = '01' \n",
    "m = StringVar()\n",
    "lista = ['JAN','FEV','MAR','ABR','MAI','JUN','JUL','AGO','SET','OUT','NOV','DEZ']\n",
    "m.set(lista[int(mes)-1])\n",
    "bt = Rectangle((10,10,50,40),'white',m)\n",
    "bt.bind()\n",
    "cria(mes)\n",
    "w.pack(expand=1)\n",
    "\n",
    "mainloop()"
   ]
  },
  {
   "cell_type": "code",
   "execution_count": 24,
   "id": "9d7dc6bc",
   "metadata": {},
   "outputs": [
    {
     "name": "stdout",
     "output_type": "stream",
     "text": [
      "311 398 485\n"
     ]
    }
   ],
   "source": [
    "print(224+87,224+87+87,224+87+87+87)"
   ]
  },
  {
   "cell_type": "code",
   "execution_count": null,
   "id": "be5ac3f5",
   "metadata": {},
   "outputs": [],
   "source": []
  }
 ],
 "metadata": {
  "kernelspec": {
   "display_name": "Python (bot)",
   "language": "python",
   "name": "bot"
  },
  "language_info": {
   "codemirror_mode": {
    "name": "ipython",
    "version": 3
   },
   "file_extension": ".py",
   "mimetype": "text/x-python",
   "name": "python",
   "nbconvert_exporter": "python",
   "pygments_lexer": "ipython3",
   "version": "3.9.7"
  }
 },
 "nbformat": 4,
 "nbformat_minor": 5
}
